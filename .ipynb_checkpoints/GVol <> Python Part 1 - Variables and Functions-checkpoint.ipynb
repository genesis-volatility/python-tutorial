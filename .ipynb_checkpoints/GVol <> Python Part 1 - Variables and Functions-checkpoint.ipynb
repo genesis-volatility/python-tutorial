{
 "cells": [
  {
   "cell_type": "markdown",
   "id": "84a4792e",
   "metadata": {},
   "source": [
    "# GVol Python Part 1: Defining Variables and Functions"
   ]
  },
  {
   "cell_type": "markdown",
   "id": "0d766ec7",
   "metadata": {},
   "source": [
    "#### Defining variables"
   ]
  },
  {
   "cell_type": "code",
   "execution_count": 4,
   "id": "502a0cad",
   "metadata": {},
   "outputs": [],
   "source": [
    "#Creating a variable begins with giving the variable a name and setting it equal to a value. \n",
    "number1 = 10"
   ]
  },
  {
   "cell_type": "code",
   "execution_count": 5,
   "id": "7a7f28ef",
   "metadata": {},
   "outputs": [],
   "source": [
    "number2 = 23"
   ]
  },
  {
   "cell_type": "code",
   "execution_count": 6,
   "id": "79100885",
   "metadata": {},
   "outputs": [
    {
     "name": "stdout",
     "output_type": "stream",
     "text": [
      "10 23\n"
     ]
    }
   ],
   "source": [
    "# Print allows you to the the values assigned to your variables\n",
    "print(number1, number2)"
   ]
  },
  {
   "cell_type": "markdown",
   "id": "9de5fe4e",
   "metadata": {},
   "source": [
    "#### Using your variables"
   ]
  },
  {
   "cell_type": "code",
   "execution_count": 7,
   "id": "6487fff4",
   "metadata": {},
   "outputs": [
    {
     "data": {
      "text/plain": [
       "33"
      ]
     },
     "execution_count": 7,
     "metadata": {},
     "output_type": "execute_result"
    }
   ],
   "source": [
    "#Variables can be used in mathematical operations \n",
    "number2 + number1"
   ]
  },
  {
   "cell_type": "code",
   "execution_count": 7,
   "id": "8abbedcb",
   "metadata": {
    "scrolled": true
   },
   "outputs": [
    {
     "data": {
      "text/plain": [
       "230"
      ]
     },
     "execution_count": 7,
     "metadata": {},
     "output_type": "execute_result"
    }
   ],
   "source": [
    "number2 * number1"
   ]
  },
  {
   "cell_type": "markdown",
   "id": "a2611102",
   "metadata": {},
   "source": [
    "#### Defining a function"
   ]
  },
  {
   "cell_type": "code",
   "execution_count": 8,
   "id": "3b5688b7",
   "metadata": {},
   "outputs": [],
   "source": [
    "# Create a function with the key word \"def\" and give the function a name. \n",
    "# A function is a “chunk” of code that you can use over and over again, rather than writing it out multiple times.\n",
    "# Here we create a function that adds two numbers together. \n",
    "def addNumbers(a, b):\n",
    "    return a + b"
   ]
  },
  {
   "cell_type": "code",
   "execution_count": 9,
   "id": "09e254e5",
   "metadata": {},
   "outputs": [
    {
     "data": {
      "text/plain": [
       "23"
      ]
     },
     "execution_count": 9,
     "metadata": {},
     "output_type": "execute_result"
    }
   ],
   "source": [
    "# Here we call or \"use\" the function we created. \n",
    "addNumbers(20, 3)"
   ]
  },
  {
   "cell_type": "code",
   "execution_count": 10,
   "id": "bc5de7f1",
   "metadata": {},
   "outputs": [
    {
     "data": {
      "text/plain": [
       "33"
      ]
     },
     "execution_count": 10,
     "metadata": {},
     "output_type": "execute_result"
    }
   ],
   "source": [
    "addNumbers(number1, number2)"
   ]
  }
 ],
 "metadata": {
  "kernelspec": {
   "display_name": "Python 3 (ipykernel)",
   "language": "python",
   "name": "python3"
  },
  "language_info": {
   "codemirror_mode": {
    "name": "ipython",
    "version": 3
   },
   "file_extension": ".py",
   "mimetype": "text/x-python",
   "name": "python",
   "nbconvert_exporter": "python",
   "pygments_lexer": "ipython3",
   "version": "3.9.12"
  }
 },
 "nbformat": 4,
 "nbformat_minor": 5
}
