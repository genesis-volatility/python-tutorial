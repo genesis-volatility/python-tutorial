{
 "cells": [
  {
   "cell_type": "markdown",
   "id": "f9911f95",
   "metadata": {},
   "source": [
    "# GVol Python Part 2: Working with Pandas"
   ]
  },
  {
   "cell_type": "markdown",
   "id": "8bfb9407",
   "metadata": {},
   "source": [
    "#### Import Dependencies"
   ]
  },
  {
   "cell_type": "code",
   "execution_count": 1,
   "id": "eb0c3a81",
   "metadata": {},
   "outputs": [],
   "source": [
    "#Import Pandas and Numpy\n",
    "import pandas as pd\n",
    "import numpy as np"
   ]
  },
  {
   "cell_type": "code",
   "execution_count": 2,
   "id": "9e6ae4b1",
   "metadata": {},
   "outputs": [],
   "source": [
    "#Create a variables data frame and create a random number set\n",
    "df = pd.DataFrame(np.random.randn(6,4), columns=[\"a\", \"b\", \"c\", \"d\"])"
   ]
  },
  {
   "cell_type": "markdown",
   "id": "d203e832",
   "metadata": {},
   "source": [
    "####  Common ways to use Pandas to explore your data set"
   ]
  },
  {
   "cell_type": "code",
   "execution_count": 4,
   "id": "776c9287",
   "metadata": {},
   "outputs": [
    {
     "data": {
      "text/html": [
       "<div>\n",
       "<style scoped>\n",
       "    .dataframe tbody tr th:only-of-type {\n",
       "        vertical-align: middle;\n",
       "    }\n",
       "\n",
       "    .dataframe tbody tr th {\n",
       "        vertical-align: top;\n",
       "    }\n",
       "\n",
       "    .dataframe thead th {\n",
       "        text-align: right;\n",
       "    }\n",
       "</style>\n",
       "<table border=\"1\" class=\"dataframe\">\n",
       "  <thead>\n",
       "    <tr style=\"text-align: right;\">\n",
       "      <th></th>\n",
       "      <th>a</th>\n",
       "      <th>b</th>\n",
       "      <th>c</th>\n",
       "      <th>d</th>\n",
       "    </tr>\n",
       "  </thead>\n",
       "  <tbody>\n",
       "    <tr>\n",
       "      <th>count</th>\n",
       "      <td>6.000000</td>\n",
       "      <td>6.000000</td>\n",
       "      <td>6.000000</td>\n",
       "      <td>6.000000</td>\n",
       "    </tr>\n",
       "    <tr>\n",
       "      <th>mean</th>\n",
       "      <td>0.066882</td>\n",
       "      <td>0.300824</td>\n",
       "      <td>0.057481</td>\n",
       "      <td>-0.320479</td>\n",
       "    </tr>\n",
       "    <tr>\n",
       "      <th>std</th>\n",
       "      <td>1.138771</td>\n",
       "      <td>0.937482</td>\n",
       "      <td>1.316672</td>\n",
       "      <td>0.776963</td>\n",
       "    </tr>\n",
       "    <tr>\n",
       "      <th>min</th>\n",
       "      <td>-2.061761</td>\n",
       "      <td>-1.334993</td>\n",
       "      <td>-2.207314</td>\n",
       "      <td>-1.788898</td>\n",
       "    </tr>\n",
       "    <tr>\n",
       "      <th>25%</th>\n",
       "      <td>-0.008032</td>\n",
       "      <td>0.001804</td>\n",
       "      <td>-0.262922</td>\n",
       "      <td>-0.343238</td>\n",
       "    </tr>\n",
       "    <tr>\n",
       "      <th>50%</th>\n",
       "      <td>0.425451</td>\n",
       "      <td>0.497823</td>\n",
       "      <td>0.099525</td>\n",
       "      <td>-0.174269</td>\n",
       "    </tr>\n",
       "    <tr>\n",
       "      <th>75%</th>\n",
       "      <td>0.463629</td>\n",
       "      <td>0.912972</td>\n",
       "      <td>0.984455</td>\n",
       "      <td>0.095780</td>\n",
       "    </tr>\n",
       "    <tr>\n",
       "      <th>max</th>\n",
       "      <td>1.288321</td>\n",
       "      <td>1.256470</td>\n",
       "      <td>1.457459</td>\n",
       "      <td>0.428324</td>\n",
       "    </tr>\n",
       "  </tbody>\n",
       "</table>\n",
       "</div>"
      ],
      "text/plain": [
       "              a         b         c         d\n",
       "count  6.000000  6.000000  6.000000  6.000000\n",
       "mean   0.066882  0.300824  0.057481 -0.320479\n",
       "std    1.138771  0.937482  1.316672  0.776963\n",
       "min   -2.061761 -1.334993 -2.207314 -1.788898\n",
       "25%   -0.008032  0.001804 -0.262922 -0.343238\n",
       "50%    0.425451  0.497823  0.099525 -0.174269\n",
       "75%    0.463629  0.912972  0.984455  0.095780\n",
       "max    1.288321  1.256470  1.457459  0.428324"
      ]
     },
     "execution_count": 4,
     "metadata": {},
     "output_type": "execute_result"
    }
   ],
   "source": [
    "#Pandas describe() function allows you to get a quick summary of the data in a data frame. \n",
    "df.describe()"
   ]
  },
  {
   "cell_type": "code",
   "execution_count": 7,
   "id": "34a923d3",
   "metadata": {
    "scrolled": true
   },
   "outputs": [
    {
     "data": {
      "text/html": [
       "<div>\n",
       "<style scoped>\n",
       "    .dataframe tbody tr th:only-of-type {\n",
       "        vertical-align: middle;\n",
       "    }\n",
       "\n",
       "    .dataframe tbody tr th {\n",
       "        vertical-align: top;\n",
       "    }\n",
       "\n",
       "    .dataframe thead th {\n",
       "        text-align: right;\n",
       "    }\n",
       "</style>\n",
       "<table border=\"1\" class=\"dataframe\">\n",
       "  <thead>\n",
       "    <tr style=\"text-align: right;\">\n",
       "      <th></th>\n",
       "      <th>a</th>\n",
       "      <th>b</th>\n",
       "      <th>c</th>\n",
       "      <th>d</th>\n",
       "    </tr>\n",
       "  </thead>\n",
       "  <tbody>\n",
       "    <tr>\n",
       "      <th>2</th>\n",
       "      <td>0.390310</td>\n",
       "      <td>0.416124</td>\n",
       "      <td>-2.207314</td>\n",
       "      <td>-1.788898</td>\n",
       "    </tr>\n",
       "    <tr>\n",
       "      <th>0</th>\n",
       "      <td>-2.061761</td>\n",
       "      <td>1.024122</td>\n",
       "      <td>-0.257767</td>\n",
       "      <td>-0.395987</td>\n",
       "    </tr>\n",
       "    <tr>\n",
       "      <th>4</th>\n",
       "      <td>0.464642</td>\n",
       "      <td>-0.136303</td>\n",
       "      <td>1.457459</td>\n",
       "      <td>-0.184992</td>\n",
       "    </tr>\n",
       "    <tr>\n",
       "      <th>1</th>\n",
       "      <td>-0.140812</td>\n",
       "      <td>1.256470</td>\n",
       "      <td>1.160334</td>\n",
       "      <td>-0.163546</td>\n",
       "    </tr>\n",
       "    <tr>\n",
       "      <th>5</th>\n",
       "      <td>1.288321</td>\n",
       "      <td>0.579523</td>\n",
       "      <td>-0.264640</td>\n",
       "      <td>0.182223</td>\n",
       "    </tr>\n",
       "    <tr>\n",
       "      <th>3</th>\n",
       "      <td>0.460591</td>\n",
       "      <td>-1.334993</td>\n",
       "      <td>0.456817</td>\n",
       "      <td>0.428324</td>\n",
       "    </tr>\n",
       "  </tbody>\n",
       "</table>\n",
       "</div>"
      ],
      "text/plain": [
       "          a         b         c         d\n",
       "2  0.390310  0.416124 -2.207314 -1.788898\n",
       "0 -2.061761  1.024122 -0.257767 -0.395987\n",
       "4  0.464642 -0.136303  1.457459 -0.184992\n",
       "1 -0.140812  1.256470  1.160334 -0.163546\n",
       "5  1.288321  0.579523 -0.264640  0.182223\n",
       "3  0.460591 -1.334993  0.456817  0.428324"
      ]
     },
     "execution_count": 7,
     "metadata": {},
     "output_type": "execute_result"
    }
   ],
   "source": [
    "#Sort values in a column in descending order\n",
    "df.sort_values(by=\"d\", ascending=True)"
   ]
  },
  {
   "cell_type": "markdown",
   "id": "2e4ef4df",
   "metadata": {},
   "source": [
    "#### Using Pandas to Load a CSV"
   ]
  },
  {
   "cell_type": "code",
   "execution_count": 12,
   "id": "7c90fc53",
   "metadata": {},
   "outputs": [],
   "source": [
    "# Read in CSV. Set the index column to date\n",
    "df = pd.read_csv(\"ETH-OHLC.csv\", index_col=\"date\")"
   ]
  },
  {
   "cell_type": "code",
   "execution_count": 17,
   "id": "3425e1a0",
   "metadata": {},
   "outputs": [],
   "source": [
    "#Here we are adding a new column to our data frame which will be the Avg of the High & Low column\n",
    "df[\"mid\"] = (df[\"high\"] + df[\"low\"]) /2"
   ]
  },
  {
   "cell_type": "code",
   "execution_count": 19,
   "id": "289adae6",
   "metadata": {},
   "outputs": [],
   "source": [
    "#Another way to create an average is to define a function that does it. \n",
    "def average(a, b):\n",
    "    return (a+b)/2"
   ]
  },
  {
   "cell_type": "code",
   "execution_count": 20,
   "id": "f8bb3f3f",
   "metadata": {},
   "outputs": [],
   "source": [
    "#Applying the function across the data frame using a lambdas. \n",
    "df[\"new_mid\"] = df.apply(lambda x: average(x[\"high\"], x[\"low\"]), axis=1)"
   ]
  },
  {
   "cell_type": "code",
   "execution_count": 21,
   "id": "2fa05647",
   "metadata": {
    "scrolled": true
   },
   "outputs": [
    {
     "data": {
      "text/html": [
       "<div>\n",
       "<style scoped>\n",
       "    .dataframe tbody tr th:only-of-type {\n",
       "        vertical-align: middle;\n",
       "    }\n",
       "\n",
       "    .dataframe tbody tr th {\n",
       "        vertical-align: top;\n",
       "    }\n",
       "\n",
       "    .dataframe thead th {\n",
       "        text-align: right;\n",
       "    }\n",
       "</style>\n",
       "<table border=\"1\" class=\"dataframe\">\n",
       "  <thead>\n",
       "    <tr style=\"text-align: right;\">\n",
       "      <th></th>\n",
       "      <th>currency</th>\n",
       "      <th>open</th>\n",
       "      <th>high</th>\n",
       "      <th>low</th>\n",
       "      <th>close</th>\n",
       "      <th>mid</th>\n",
       "      <th>new_mid</th>\n",
       "    </tr>\n",
       "    <tr>\n",
       "      <th>date</th>\n",
       "      <th></th>\n",
       "      <th></th>\n",
       "      <th></th>\n",
       "      <th></th>\n",
       "      <th></th>\n",
       "      <th></th>\n",
       "      <th></th>\n",
       "    </tr>\n",
       "  </thead>\n",
       "  <tbody>\n",
       "    <tr>\n",
       "      <th>2022-03-14</th>\n",
       "      <td>ETH</td>\n",
       "      <td>2516.83</td>\n",
       "      <td>2608.14</td>\n",
       "      <td>2503.88</td>\n",
       "      <td>2591.45</td>\n",
       "      <td>2556.010</td>\n",
       "      <td>2556.010</td>\n",
       "    </tr>\n",
       "    <tr>\n",
       "      <th>2022-03-15</th>\n",
       "      <td>ETH</td>\n",
       "      <td>2591.45</td>\n",
       "      <td>2668.80</td>\n",
       "      <td>2512.00</td>\n",
       "      <td>2619.61</td>\n",
       "      <td>2590.400</td>\n",
       "      <td>2590.400</td>\n",
       "    </tr>\n",
       "    <tr>\n",
       "      <th>2022-03-16</th>\n",
       "      <td>ETH</td>\n",
       "      <td>2619.61</td>\n",
       "      <td>2787.84</td>\n",
       "      <td>2607.23</td>\n",
       "      <td>2773.67</td>\n",
       "      <td>2697.535</td>\n",
       "      <td>2697.535</td>\n",
       "    </tr>\n",
       "    <tr>\n",
       "      <th>2022-03-17</th>\n",
       "      <td>ETH</td>\n",
       "      <td>2775.15</td>\n",
       "      <td>2835.17</td>\n",
       "      <td>2750.42</td>\n",
       "      <td>2814.64</td>\n",
       "      <td>2792.795</td>\n",
       "      <td>2792.795</td>\n",
       "    </tr>\n",
       "    <tr>\n",
       "      <th>2022-03-18</th>\n",
       "      <td>ETH</td>\n",
       "      <td>2814.64</td>\n",
       "      <td>2978.26</td>\n",
       "      <td>2771.37</td>\n",
       "      <td>2941.32</td>\n",
       "      <td>2874.815</td>\n",
       "      <td>2874.815</td>\n",
       "    </tr>\n",
       "    <tr>\n",
       "      <th>...</th>\n",
       "      <td>...</td>\n",
       "      <td>...</td>\n",
       "      <td>...</td>\n",
       "      <td>...</td>\n",
       "      <td>...</td>\n",
       "      <td>...</td>\n",
       "      <td>...</td>\n",
       "    </tr>\n",
       "    <tr>\n",
       "      <th>2022-06-16</th>\n",
       "      <td>ETH</td>\n",
       "      <td>1236.89</td>\n",
       "      <td>1255.90</td>\n",
       "      <td>1050.94</td>\n",
       "      <td>1067.86</td>\n",
       "      <td>1153.420</td>\n",
       "      <td>1153.420</td>\n",
       "    </tr>\n",
       "    <tr>\n",
       "      <th>2022-06-17</th>\n",
       "      <td>ETH</td>\n",
       "      <td>1067.10</td>\n",
       "      <td>1116.32</td>\n",
       "      <td>1050.30</td>\n",
       "      <td>1085.21</td>\n",
       "      <td>1083.310</td>\n",
       "      <td>1083.310</td>\n",
       "    </tr>\n",
       "    <tr>\n",
       "      <th>2022-06-18</th>\n",
       "      <td>ETH</td>\n",
       "      <td>1085.21</td>\n",
       "      <td>1096.22</td>\n",
       "      <td>883.48</td>\n",
       "      <td>993.72</td>\n",
       "      <td>989.850</td>\n",
       "      <td>989.850</td>\n",
       "    </tr>\n",
       "    <tr>\n",
       "      <th>2022-06-19</th>\n",
       "      <td>ETH</td>\n",
       "      <td>994.41</td>\n",
       "      <td>1155.62</td>\n",
       "      <td>934.96</td>\n",
       "      <td>1127.03</td>\n",
       "      <td>1045.290</td>\n",
       "      <td>1045.290</td>\n",
       "    </tr>\n",
       "    <tr>\n",
       "      <th>2022-06-20</th>\n",
       "      <td>ETH</td>\n",
       "      <td>1127.03</td>\n",
       "      <td>1166.85</td>\n",
       "      <td>1051.76</td>\n",
       "      <td>1126.99</td>\n",
       "      <td>1109.305</td>\n",
       "      <td>1109.305</td>\n",
       "    </tr>\n",
       "  </tbody>\n",
       "</table>\n",
       "<p>99 rows × 7 columns</p>\n",
       "</div>"
      ],
      "text/plain": [
       "           currency     open     high      low    close       mid   new_mid\n",
       "date                                                                       \n",
       "2022-03-14      ETH  2516.83  2608.14  2503.88  2591.45  2556.010  2556.010\n",
       "2022-03-15      ETH  2591.45  2668.80  2512.00  2619.61  2590.400  2590.400\n",
       "2022-03-16      ETH  2619.61  2787.84  2607.23  2773.67  2697.535  2697.535\n",
       "2022-03-17      ETH  2775.15  2835.17  2750.42  2814.64  2792.795  2792.795\n",
       "2022-03-18      ETH  2814.64  2978.26  2771.37  2941.32  2874.815  2874.815\n",
       "...             ...      ...      ...      ...      ...       ...       ...\n",
       "2022-06-16      ETH  1236.89  1255.90  1050.94  1067.86  1153.420  1153.420\n",
       "2022-06-17      ETH  1067.10  1116.32  1050.30  1085.21  1083.310  1083.310\n",
       "2022-06-18      ETH  1085.21  1096.22   883.48   993.72   989.850   989.850\n",
       "2022-06-19      ETH   994.41  1155.62   934.96  1127.03  1045.290  1045.290\n",
       "2022-06-20      ETH  1127.03  1166.85  1051.76  1126.99  1109.305  1109.305\n",
       "\n",
       "[99 rows x 7 columns]"
      ]
     },
     "execution_count": 21,
     "metadata": {},
     "output_type": "execute_result"
    }
   ],
   "source": [
    "df"
   ]
  },
  {
   "cell_type": "code",
   "execution_count": 22,
   "id": "1ba208dd",
   "metadata": {},
   "outputs": [],
   "source": [
    "#Pandas gives us easy ways to apply a rolling average. Here we are creating a 10 day moving avg. \n",
    "df[\"SMA10\"] = df[\"open\"].rolling(10).mean()"
   ]
  },
  {
   "cell_type": "code",
   "execution_count": 25,
   "id": "8538c937",
   "metadata": {},
   "outputs": [],
   "source": [
    "#Creating a 30 day moving averagee\n",
    "df[\"SMA30\"] = df[\"open\"].rolling(30).mean()"
   ]
  },
  {
   "cell_type": "code",
   "execution_count": 27,
   "id": "56afe286",
   "metadata": {},
   "outputs": [],
   "source": [
    "#Creating a new column on our data frame that allows us to compare todays open vs. the previous days open. \n",
    "df[\"previous_day_open\"] = df[\"open\"].shift(1)"
   ]
  },
  {
   "cell_type": "code",
   "execution_count": 29,
   "id": "abc6b6f0",
   "metadata": {},
   "outputs": [
    {
     "data": {
      "text/plain": [
       "<AxesSubplot:xlabel='date'>"
      ]
     },
     "execution_count": 29,
     "metadata": {},
     "output_type": "execute_result"
    },
    {
     "data": {
      "image/png": "[encoded data removed]",
      "text/plain": [
       "<Figure size 432x288 with 1 Axes>"
      ]
     },
     "metadata": {
      "needs_background": "light"
     },
     "output_type": "display_data"
    }
   ],
   "source": [
    "#Creating some basic plotting for our moving averages. \n",
    "df[[\"close\", \"SMA10\", \"SMA30\"]].plot()"
   ]
  }
 ],
 "metadata": {
  "kernelspec": {
   "display_name": "Python 3 (ipykernel)",
   "language": "python",
   "name": "python3"
  },
  "language_info": {
   "codemirror_mode": {
    "name": "ipython",
    "version": 3
   },
   "file_extension": ".py",
   "mimetype": "text/x-python",
   "name": "python",
   "nbconvert_exporter": "python",
   "pygments_lexer": "ipython3",
   "version": "3.9.12"
  }
 },
 "nbformat": 4,
 "nbformat_minor": 5
}
